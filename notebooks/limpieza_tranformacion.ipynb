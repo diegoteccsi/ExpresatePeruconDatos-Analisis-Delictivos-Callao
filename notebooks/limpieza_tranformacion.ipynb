{
 "cells": [
  {
   "cell_type": "markdown",
   "metadata": {},
   "source": [
    "# Exprésate Perú con Datos 2024 - GORE CALLAO\n",
    "\n",
    "## Dataset: [Registros delictivos del Observatorio Regional de Seguridad Ciudadana en la Provincia Constitucional del Callao](https://expresateperu.datosabiertos.gob.pe/dataset/registros-delictivos-del-observatorio-regional-de-seguridad-ciudadana-en-la-provincia)\n",
    "\n",
    "## Revisado por : [Diego Teccsi Cerda](https://www.linkedin.com/in/diego-teccsi/)"
   ]
  },
  {
   "cell_type": "markdown",
   "metadata": {},
   "source": [
    "### Carga de Datos"
   ]
  },
  {
   "cell_type": "code",
   "execution_count": 1,
   "metadata": {},
   "outputs": [],
   "source": [
    "import pandas as pd\n",
    "\n",
    "file_path = r'..\\data\\raw\\DATASET_SEGURIDAD_CALLAO_FEBRERO2024_0.csv'\n",
    "df = pd.read_csv(file_path, delimiter=';')"
   ]
  },
  {
   "cell_type": "code",
   "execution_count": 2,
   "metadata": {},
   "outputs": [
    {
     "data": {
      "text/html": [
       "<div>\n",
       "<style scoped>\n",
       "    .dataframe tbody tr th:only-of-type {\n",
       "        vertical-align: middle;\n",
       "    }\n",
       "\n",
       "    .dataframe tbody tr th {\n",
       "        vertical-align: top;\n",
       "    }\n",
       "\n",
       "    .dataframe thead th {\n",
       "        text-align: right;\n",
       "    }\n",
       "</style>\n",
       "<table border=\"1\" class=\"dataframe\">\n",
       "  <thead>\n",
       "    <tr style=\"text-align: right;\">\n",
       "      <th></th>\n",
       "      <th>FECHA_CORTE</th>\n",
       "      <th>FECHA_REGISTRO</th>\n",
       "      <th>ID_DOC_DENUNCIA</th>\n",
       "      <th>UBIGEO</th>\n",
       "      <th>DEPARTAMENTO</th>\n",
       "      <th>PROVINCIA</th>\n",
       "      <th>DISTRITO</th>\n",
       "      <th>TIPO_DE_DENUNCIA</th>\n",
       "      <th>SITUACION_DENUNCIA</th>\n",
       "      <th>TIPO</th>\n",
       "      <th>...</th>\n",
       "      <th>FECHA_NACIMIENTO</th>\n",
       "      <th>EDAD_PERSONA</th>\n",
       "      <th>SEXO</th>\n",
       "      <th>ESTADO_CIVIL</th>\n",
       "      <th>GRADO_INSTRUCCION</th>\n",
       "      <th>OCUPACION</th>\n",
       "      <th>PAIS_NATAL</th>\n",
       "      <th>MES</th>\n",
       "      <th>LONGITUD</th>\n",
       "      <th>LATITUD</th>\n",
       "    </tr>\n",
       "  </thead>\n",
       "  <tbody>\n",
       "    <tr>\n",
       "      <th>0</th>\n",
       "      <td>20240425</td>\n",
       "      <td>20240226</td>\n",
       "      <td>4e35831afdd9aa1958807a7b32ea5b53a26aa74d1556d5...</td>\n",
       "      <td>70101</td>\n",
       "      <td>CALLAO</td>\n",
       "      <td>CALLAO</td>\n",
       "      <td>CALLAO</td>\n",
       "      <td>DENUNCIA</td>\n",
       "      <td>PENDIENTE</td>\n",
       "      <td>LEY DE VIOLENCIA CONTRA LA MUJER Y GRUPOS VULN...</td>\n",
       "      <td>...</td>\n",
       "      <td>19900713</td>\n",
       "      <td>33</td>\n",
       "      <td>MASCULINO</td>\n",
       "      <td>SOLTERO(A)</td>\n",
       "      <td>NO INDICA</td>\n",
       "      <td>NO INDICA</td>\n",
       "      <td>PERU</td>\n",
       "      <td>202402</td>\n",
       "      <td>-77.115782</td>\n",
       "      <td>-12.005028</td>\n",
       "    </tr>\n",
       "    <tr>\n",
       "      <th>1</th>\n",
       "      <td>20240425</td>\n",
       "      <td>20240221</td>\n",
       "      <td>7ccf55ed76f62bc29e46f082caa7e57c289dc59bded9d8...</td>\n",
       "      <td>70101</td>\n",
       "      <td>CALLAO</td>\n",
       "      <td>CALLAO</td>\n",
       "      <td>CALLAO</td>\n",
       "      <td>DENUNCIA</td>\n",
       "      <td>RESUELTA</td>\n",
       "      <td>LEY DE VIOLENCIA CONTRA LA MUJER Y GRUPOS VULN...</td>\n",
       "      <td>...</td>\n",
       "      <td>19850129</td>\n",
       "      <td>39</td>\n",
       "      <td>MASCULINO</td>\n",
       "      <td>SOLTERO(A)</td>\n",
       "      <td>NO INDICA</td>\n",
       "      <td>NO INDICA</td>\n",
       "      <td>PERU</td>\n",
       "      <td>202402</td>\n",
       "      <td>-77.154571</td>\n",
       "      <td>-11.844027</td>\n",
       "    </tr>\n",
       "    <tr>\n",
       "      <th>2</th>\n",
       "      <td>20240425</td>\n",
       "      <td>20240210</td>\n",
       "      <td>fed71611056418d9ebbda0717e8252554c85b3b08f34fa...</td>\n",
       "      <td>70101</td>\n",
       "      <td>CALLAO</td>\n",
       "      <td>CALLAO</td>\n",
       "      <td>CALLAO</td>\n",
       "      <td>DENUNCIA</td>\n",
       "      <td>RESUELTA</td>\n",
       "      <td>LEY DE VIOLENCIA CONTRA LA MUJER Y GRUPOS VULN...</td>\n",
       "      <td>...</td>\n",
       "      <td>19931021</td>\n",
       "      <td>30</td>\n",
       "      <td>MASCULINO</td>\n",
       "      <td>SOLTERO(A)</td>\n",
       "      <td>NO INDICA</td>\n",
       "      <td>NO INDICA</td>\n",
       "      <td>PERU</td>\n",
       "      <td>202402</td>\n",
       "      <td>-77.126113</td>\n",
       "      <td>-12.051164</td>\n",
       "    </tr>\n",
       "    <tr>\n",
       "      <th>3</th>\n",
       "      <td>20240425</td>\n",
       "      <td>20240220</td>\n",
       "      <td>7d920f96de74cf295cbbb4da54057db724c98421ffa0a1...</td>\n",
       "      <td>70101</td>\n",
       "      <td>CALLAO</td>\n",
       "      <td>CALLAO</td>\n",
       "      <td>CALLAO</td>\n",
       "      <td>DENUNCIA</td>\n",
       "      <td>RESUELTA</td>\n",
       "      <td>LEY DE VIOLENCIA CONTRA LA MUJER Y GRUPOS VULN...</td>\n",
       "      <td>...</td>\n",
       "      <td>19850606</td>\n",
       "      <td>38</td>\n",
       "      <td>MASCULINO</td>\n",
       "      <td>SOLTERO(A)</td>\n",
       "      <td>NO INDICA</td>\n",
       "      <td>VIGILANTE</td>\n",
       "      <td>PERU</td>\n",
       "      <td>202402</td>\n",
       "      <td>-77.129483</td>\n",
       "      <td>-11.951019</td>\n",
       "    </tr>\n",
       "    <tr>\n",
       "      <th>4</th>\n",
       "      <td>20240425</td>\n",
       "      <td>20240223</td>\n",
       "      <td>060b191856ee7bf4feb80322d9c04ff36bbc99eaa75075...</td>\n",
       "      <td>70101</td>\n",
       "      <td>CALLAO</td>\n",
       "      <td>CALLAO</td>\n",
       "      <td>CALLAO</td>\n",
       "      <td>ACTA DE INTERVENCION</td>\n",
       "      <td>RESUELTA</td>\n",
       "      <td>PATRIMONIO (DELITO)</td>\n",
       "      <td>...</td>\n",
       "      <td>19950926</td>\n",
       "      <td>28</td>\n",
       "      <td>MASCULINO</td>\n",
       "      <td>SOLTERO(A)</td>\n",
       "      <td>NO INDICA</td>\n",
       "      <td>NO INDICA</td>\n",
       "      <td>PERU</td>\n",
       "      <td>202402</td>\n",
       "      <td>-77.125383</td>\n",
       "      <td>-12.051164</td>\n",
       "    </tr>\n",
       "  </tbody>\n",
       "</table>\n",
       "<p>5 rows × 26 columns</p>\n",
       "</div>"
      ],
      "text/plain": [
       "   FECHA_CORTE  FECHA_REGISTRO  \\\n",
       "0     20240425        20240226   \n",
       "1     20240425        20240221   \n",
       "2     20240425        20240210   \n",
       "3     20240425        20240220   \n",
       "4     20240425        20240223   \n",
       "\n",
       "                                     ID_DOC_DENUNCIA  UBIGEO DEPARTAMENTO  \\\n",
       "0  4e35831afdd9aa1958807a7b32ea5b53a26aa74d1556d5...   70101       CALLAO   \n",
       "1  7ccf55ed76f62bc29e46f082caa7e57c289dc59bded9d8...   70101       CALLAO   \n",
       "2  fed71611056418d9ebbda0717e8252554c85b3b08f34fa...   70101       CALLAO   \n",
       "3  7d920f96de74cf295cbbb4da54057db724c98421ffa0a1...   70101       CALLAO   \n",
       "4  060b191856ee7bf4feb80322d9c04ff36bbc99eaa75075...   70101       CALLAO   \n",
       "\n",
       "  PROVINCIA DISTRITO      TIPO_DE_DENUNCIA SITUACION_DENUNCIA  \\\n",
       "0    CALLAO   CALLAO              DENUNCIA          PENDIENTE   \n",
       "1    CALLAO   CALLAO              DENUNCIA           RESUELTA   \n",
       "2    CALLAO   CALLAO              DENUNCIA           RESUELTA   \n",
       "3    CALLAO   CALLAO              DENUNCIA           RESUELTA   \n",
       "4    CALLAO   CALLAO  ACTA DE INTERVENCION           RESUELTA   \n",
       "\n",
       "                                                TIPO  ... FECHA_NACIMIENTO  \\\n",
       "0  LEY DE VIOLENCIA CONTRA LA MUJER Y GRUPOS VULN...  ...         19900713   \n",
       "1  LEY DE VIOLENCIA CONTRA LA MUJER Y GRUPOS VULN...  ...         19850129   \n",
       "2  LEY DE VIOLENCIA CONTRA LA MUJER Y GRUPOS VULN...  ...         19931021   \n",
       "3  LEY DE VIOLENCIA CONTRA LA MUJER Y GRUPOS VULN...  ...         19850606   \n",
       "4                                PATRIMONIO (DELITO)  ...         19950926   \n",
       "\n",
       "  EDAD_PERSONA       SEXO  ESTADO_CIVIL GRADO_INSTRUCCION  OCUPACION  \\\n",
       "0           33  MASCULINO    SOLTERO(A)         NO INDICA  NO INDICA   \n",
       "1           39  MASCULINO    SOLTERO(A)         NO INDICA  NO INDICA   \n",
       "2           30  MASCULINO    SOLTERO(A)         NO INDICA  NO INDICA   \n",
       "3           38  MASCULINO    SOLTERO(A)         NO INDICA  VIGILANTE   \n",
       "4           28  MASCULINO    SOLTERO(A)         NO INDICA  NO INDICA   \n",
       "\n",
       "   PAIS_NATAL     MES   LONGITUD    LATITUD  \n",
       "0        PERU  202402 -77.115782 -12.005028  \n",
       "1        PERU  202402 -77.154571 -11.844027  \n",
       "2        PERU  202402 -77.126113 -12.051164  \n",
       "3        PERU  202402 -77.129483 -11.951019  \n",
       "4        PERU  202402 -77.125383 -12.051164  \n",
       "\n",
       "[5 rows x 26 columns]"
      ]
     },
     "execution_count": 2,
     "metadata": {},
     "output_type": "execute_result"
    }
   ],
   "source": [
    "# primeras filas del dataset\n",
    "df.head()"
   ]
  },
  {
   "cell_type": "markdown",
   "metadata": {},
   "source": [
    "### Limpieza y Transformación de datos"
   ]
  },
  {
   "cell_type": "markdown",
   "metadata": {},
   "source": [
    "#### Conversión de datos"
   ]
  },
  {
   "cell_type": "code",
   "execution_count": 3,
   "metadata": {},
   "outputs": [],
   "source": [
    "# Columnas de fecha a formato datetime\n",
    "df['FECHA_CORTE'] = pd.to_datetime(df['FECHA_CORTE'], format='%Y%m%d')\n",
    "df['FECHA_REGISTRO'] = pd.to_datetime(df['FECHA_REGISTRO'], format='%Y%m%d')\n",
    "df['FECHA_HECHO'] = pd.to_datetime(df['FECHA_HECHO'], format='%Y%m%d')\n",
    "df['FECHA_NACIMIENTO'] = pd.to_datetime(df['FECHA_NACIMIENTO'], format='%Y%m%d')"
   ]
  },
  {
   "cell_type": "code",
   "execution_count": 4,
   "metadata": {},
   "outputs": [
    {
     "name": "stdout",
     "output_type": "stream",
     "text": [
      "  FECHA_CORTE FECHA_REGISTRO FECHA_HECHO FECHA_NACIMIENTO\n",
      "0  2024-04-25     2024-02-26  2024-02-26       1990-07-13\n",
      "1  2024-04-25     2024-02-21  2024-02-21       1985-01-29\n",
      "2  2024-04-25     2024-02-10  2024-02-10       1993-10-21\n",
      "3  2024-04-25     2024-02-20  2024-02-20       1985-06-06\n",
      "4  2024-04-25     2024-02-23  2024-02-23       1995-09-26\n"
     ]
    }
   ],
   "source": [
    "print(df[['FECHA_CORTE', 'FECHA_REGISTRO', 'FECHA_HECHO', 'FECHA_NACIMIENTO']].head())"
   ]
  },
  {
   "cell_type": "markdown",
   "metadata": {},
   "source": [
    "#### Quitar filas con datos nulos"
   ]
  },
  {
   "cell_type": "code",
   "execution_count": 5,
   "metadata": {},
   "outputs": [
    {
     "name": "stdout",
     "output_type": "stream",
     "text": [
      "LONGITUD    4\n",
      "LATITUD     4\n",
      "dtype: int64\n"
     ]
    }
   ],
   "source": [
    "# Verificar si existen valores nulos\n",
    "null_counts = df.isnull().sum()\n",
    "print(null_counts[null_counts > 0])"
   ]
  },
  {
   "cell_type": "code",
   "execution_count": 6,
   "metadata": {},
   "outputs": [],
   "source": [
    "# eliminar filas con valores nulos\n",
    "df = df.dropna(subset=['LONGITUD', 'LATITUD'])"
   ]
  },
  {
   "cell_type": "markdown",
   "metadata": {},
   "source": [
    "#### Verificar y/o estandarizar valores"
   ]
  },
  {
   "cell_type": "code",
   "execution_count": 7,
   "metadata": {},
   "outputs": [
    {
     "name": "stdout",
     "output_type": "stream",
     "text": [
      "<class 'pandas.core.frame.DataFrame'>\n",
      "Int64Index: 2639 entries, 0 to 2642\n",
      "Data columns (total 12 columns):\n",
      " #   Column              Non-Null Count  Dtype         \n",
      "---  ------              --------------  -----         \n",
      " 0   FECHA_CORTE         2639 non-null   datetime64[ns]\n",
      " 1   FECHA_REGISTRO      2639 non-null   datetime64[ns]\n",
      " 2   ID_DOC_DENUNCIA     2639 non-null   object        \n",
      " 3   UBIGEO              2639 non-null   int64         \n",
      " 4   DEPARTAMENTO        2639 non-null   object        \n",
      " 5   PROVINCIA           2639 non-null   object        \n",
      " 6   DISTRITO            2639 non-null   object        \n",
      " 7   TIPO_DE_DENUNCIA    2639 non-null   object        \n",
      " 8   SITUACION_DENUNCIA  2639 non-null   object        \n",
      " 9   TIPO                2639 non-null   object        \n",
      " 10  SUBTIPO             2639 non-null   object        \n",
      " 11  MODALIDAD           2639 non-null   object        \n",
      "dtypes: datetime64[ns](2), int64(1), object(9)\n",
      "memory usage: 268.0+ KB\n"
     ]
    }
   ],
   "source": [
    "# revisar las primeras 12 columnas\n",
    "df.iloc[:,:12].info()"
   ]
  },
  {
   "cell_type": "code",
   "execution_count": 8,
   "metadata": {},
   "outputs": [
    {
     "data": {
      "text/html": [
       "<div>\n",
       "<style scoped>\n",
       "    .dataframe tbody tr th:only-of-type {\n",
       "        vertical-align: middle;\n",
       "    }\n",
       "\n",
       "    .dataframe tbody tr th {\n",
       "        vertical-align: top;\n",
       "    }\n",
       "\n",
       "    .dataframe thead th {\n",
       "        text-align: right;\n",
       "    }\n",
       "</style>\n",
       "<table border=\"1\" class=\"dataframe\">\n",
       "  <thead>\n",
       "    <tr style=\"text-align: right;\">\n",
       "      <th></th>\n",
       "      <th>DEPARTAMENTO</th>\n",
       "      <th>PROVINCIA</th>\n",
       "      <th>DISTRITO</th>\n",
       "    </tr>\n",
       "  </thead>\n",
       "  <tbody>\n",
       "    <tr>\n",
       "      <th>0</th>\n",
       "      <td>CALLAO</td>\n",
       "      <td>CALLAO</td>\n",
       "      <td>CALLAO</td>\n",
       "    </tr>\n",
       "    <tr>\n",
       "      <th>12</th>\n",
       "      <td>CALLAO</td>\n",
       "      <td>CALLAO</td>\n",
       "      <td>VENTANILLA</td>\n",
       "    </tr>\n",
       "    <tr>\n",
       "      <th>32</th>\n",
       "      <td>CALLAO</td>\n",
       "      <td>CALLAO</td>\n",
       "      <td>BELLAVISTA</td>\n",
       "    </tr>\n",
       "    <tr>\n",
       "      <th>44</th>\n",
       "      <td>CALLAO</td>\n",
       "      <td>CALLAO</td>\n",
       "      <td>LA PERLA</td>\n",
       "    </tr>\n",
       "    <tr>\n",
       "      <th>62</th>\n",
       "      <td>CALLAO</td>\n",
       "      <td>CALLAO</td>\n",
       "      <td>CARMEN DE LA LEGUA REYNOSO</td>\n",
       "    </tr>\n",
       "    <tr>\n",
       "      <th>198</th>\n",
       "      <td>CALLAO</td>\n",
       "      <td>CALLAO</td>\n",
       "      <td>LA PUNTA</td>\n",
       "    </tr>\n",
       "    <tr>\n",
       "      <th>351</th>\n",
       "      <td>CALLAO</td>\n",
       "      <td>CALLAO</td>\n",
       "      <td>MI PERU</td>\n",
       "    </tr>\n",
       "  </tbody>\n",
       "</table>\n",
       "</div>"
      ],
      "text/plain": [
       "    DEPARTAMENTO PROVINCIA                    DISTRITO\n",
       "0         CALLAO    CALLAO                      CALLAO\n",
       "12        CALLAO    CALLAO                  VENTANILLA\n",
       "32        CALLAO    CALLAO                  BELLAVISTA\n",
       "44        CALLAO    CALLAO                    LA PERLA\n",
       "62        CALLAO    CALLAO  CARMEN DE LA LEGUA REYNOSO\n",
       "198       CALLAO    CALLAO                    LA PUNTA\n",
       "351       CALLAO    CALLAO                     MI PERU"
      ]
     },
     "execution_count": 8,
     "metadata": {},
     "output_type": "execute_result"
    }
   ],
   "source": [
    "# validar si los nombres de los lugares si son correctos\n",
    "lugares = df[['DEPARTAMENTO','PROVINCIA','DISTRITO']].drop_duplicates()\n",
    "lugares"
   ]
  },
  {
   "cell_type": "code",
   "execution_count": 9,
   "metadata": {},
   "outputs": [
    {
     "name": "stdout",
     "output_type": "stream",
     "text": [
      "['DENUNCIA' 'ACTA DE INTERVENCION' 'OCURRENCIA' 'ACTA DE DENUNCIA VERBAL']\n"
     ]
    }
   ],
   "source": [
    "# validar los valores de tipo de denuncia\n",
    "print(df['TIPO_DE_DENUNCIA'].unique())"
   ]
  },
  {
   "cell_type": "code",
   "execution_count": 10,
   "metadata": {},
   "outputs": [],
   "source": [
    "# estandarizar valores\n",
    "df['TIPO_DE_DENUNCIA'] = df['TIPO_DE_DENUNCIA'].replace({\n",
    "    'ACTA DE INTERVENCION': 'INTERVENCION',\n",
    "    'ACTA DE DENUNCIA VERBAL': 'DENUNCIA VERBAL'\n",
    "    })"
   ]
  },
  {
   "cell_type": "code",
   "execution_count": 11,
   "metadata": {},
   "outputs": [
    {
     "name": "stdout",
     "output_type": "stream",
     "text": [
      "['PENDIENTE' 'RESUELTA']\n"
     ]
    }
   ],
   "source": [
    "# validar los valores de situación de denuncia\n",
    "print(df['SITUACION_DENUNCIA'].unique())"
   ]
  },
  {
   "cell_type": "code",
   "execution_count": 12,
   "metadata": {},
   "outputs": [
    {
     "data": {
      "text/html": [
       "<div>\n",
       "<style scoped>\n",
       "    .dataframe tbody tr th:only-of-type {\n",
       "        vertical-align: middle;\n",
       "    }\n",
       "\n",
       "    .dataframe tbody tr th {\n",
       "        vertical-align: top;\n",
       "    }\n",
       "\n",
       "    .dataframe thead th {\n",
       "        text-align: right;\n",
       "    }\n",
       "</style>\n",
       "<table border=\"1\" class=\"dataframe\">\n",
       "  <thead>\n",
       "    <tr style=\"text-align: right;\">\n",
       "      <th></th>\n",
       "      <th>TIPO</th>\n",
       "      <th>SUBTIPO</th>\n",
       "    </tr>\n",
       "  </thead>\n",
       "  <tbody>\n",
       "    <tr>\n",
       "      <th>74</th>\n",
       "      <td>ADMINISTRACION PUBLICA (DELITO)</td>\n",
       "      <td>COMETIDOS POR FUNCIONARIOS PUBLICOS</td>\n",
       "    </tr>\n",
       "    <tr>\n",
       "      <th>50</th>\n",
       "      <td>ADMINISTRACION PUBLICA (DELITO)</td>\n",
       "      <td>COMETIDOS POR PARTICULARES</td>\n",
       "    </tr>\n",
       "    <tr>\n",
       "      <th>151</th>\n",
       "      <td>DERECHOS INTELECTUALES (DELITO)</td>\n",
       "      <td>PROPIEDAD INDUSTRIAL</td>\n",
       "    </tr>\n",
       "    <tr>\n",
       "      <th>112</th>\n",
       "      <td>FAMILIA (DELITO)</td>\n",
       "      <td>ATENTADOS CONTRA LA PATRIA POTESTAD</td>\n",
       "    </tr>\n",
       "    <tr>\n",
       "      <th>152</th>\n",
       "      <td>FE PUBLICA (DELITO)</td>\n",
       "      <td>DISPOSICIONES COMUNES</td>\n",
       "    </tr>\n",
       "    <tr>\n",
       "      <th>155</th>\n",
       "      <td>FE PUBLICA (DELITO)</td>\n",
       "      <td>FALSIFICACION DE DOCUMENTOS EN GENERAL</td>\n",
       "    </tr>\n",
       "    <tr>\n",
       "      <th>732</th>\n",
       "      <td>FE PUBLICA (DELITO)</td>\n",
       "      <td>FALSIFICACION DE SELLOS  TIMBRES Y MARCAS OFIC...</td>\n",
       "    </tr>\n",
       "    <tr>\n",
       "      <th>1179</th>\n",
       "      <td>LEY 30096 DELITOS INFORMATICOS  MODIFICADA POR...</td>\n",
       "      <td>CONTRA LA INTIMIDAD Y EL SECRETO DE LAS COMUNI...</td>\n",
       "    </tr>\n",
       "    <tr>\n",
       "      <th>29</th>\n",
       "      <td>LEY 30096 DELITOS INFORMATICOS  MODIFICADA POR...</td>\n",
       "      <td>DELITOS INFORMATICOS CONTRA EL PATRIMONIO</td>\n",
       "    </tr>\n",
       "    <tr>\n",
       "      <th>501</th>\n",
       "      <td>LEY 30096 DELITOS INFORMATICOS  MODIFICADA POR...</td>\n",
       "      <td>DELITOS INFORMATICOS CONTRA LA FE PUBLICA</td>\n",
       "    </tr>\n",
       "    <tr>\n",
       "      <th>0</th>\n",
       "      <td>LEY DE VIOLENCIA CONTRA LA MUJER Y GRUPOS VULN...</td>\n",
       "      <td>LEY PARA PREVENIR   SANCIONAR Y ERRADICAR LA V...</td>\n",
       "    </tr>\n",
       "    <tr>\n",
       "      <th>611</th>\n",
       "      <td>LIBERTAD (DELITO)</td>\n",
       "      <td>VIOLACION DE DOMICILIO</td>\n",
       "    </tr>\n",
       "    <tr>\n",
       "      <th>700</th>\n",
       "      <td>LIBERTAD (DELITO)</td>\n",
       "      <td>VIOLACION DE LA INTIMIDAD</td>\n",
       "    </tr>\n",
       "    <tr>\n",
       "      <th>110</th>\n",
       "      <td>LIBERTAD (DELITO)</td>\n",
       "      <td>VIOLACION DE LA LIBERTAD PERSONAL</td>\n",
       "    </tr>\n",
       "    <tr>\n",
       "      <th>37</th>\n",
       "      <td>LIBERTAD (DELITO)</td>\n",
       "      <td>VIOLACION DE LA LIBERTAD SEXUAL</td>\n",
       "    </tr>\n",
       "    <tr>\n",
       "      <th>332</th>\n",
       "      <td>PATRIMONIO (DELITO)</td>\n",
       "      <td>APROPIACION ILICITA</td>\n",
       "    </tr>\n",
       "    <tr>\n",
       "      <th>55</th>\n",
       "      <td>PATRIMONIO (DELITO)</td>\n",
       "      <td>DAÑOS</td>\n",
       "    </tr>\n",
       "    <tr>\n",
       "      <th>38</th>\n",
       "      <td>PATRIMONIO (DELITO)</td>\n",
       "      <td>ESTAFA Y OTRAS DEFRAUDACIONES</td>\n",
       "    </tr>\n",
       "    <tr>\n",
       "      <th>77</th>\n",
       "      <td>PATRIMONIO (DELITO)</td>\n",
       "      <td>EXTORSION</td>\n",
       "    </tr>\n",
       "    <tr>\n",
       "      <th>5</th>\n",
       "      <td>PATRIMONIO (DELITO)</td>\n",
       "      <td>HURTO</td>\n",
       "    </tr>\n",
       "    <tr>\n",
       "      <th>140</th>\n",
       "      <td>PATRIMONIO (DELITO)</td>\n",
       "      <td>RECEPTACION</td>\n",
       "    </tr>\n",
       "    <tr>\n",
       "      <th>4</th>\n",
       "      <td>PATRIMONIO (DELITO)</td>\n",
       "      <td>ROBO</td>\n",
       "    </tr>\n",
       "    <tr>\n",
       "      <th>718</th>\n",
       "      <td>PATRIMONIO (DELITO)</td>\n",
       "      <td>USURPACION</td>\n",
       "    </tr>\n",
       "    <tr>\n",
       "      <th>446</th>\n",
       "      <td>SEGURIDAD PUBLICA (DELITO)</td>\n",
       "      <td>MEDIOS DE TRANSPORTE  COMUNICACIONES Y OTROS S...</td>\n",
       "    </tr>\n",
       "    <tr>\n",
       "      <th>31</th>\n",
       "      <td>SEGURIDAD PUBLICA (DELITO)</td>\n",
       "      <td>PELIGRO COMUN</td>\n",
       "    </tr>\n",
       "    <tr>\n",
       "      <th>108</th>\n",
       "      <td>SEGURIDAD PUBLICA (DELITO)</td>\n",
       "      <td>SALUD PUBLICA</td>\n",
       "    </tr>\n",
       "    <tr>\n",
       "      <th>1394</th>\n",
       "      <td>TRANQUILIDAD PUBLICA (DELITO)</td>\n",
       "      <td>CONTRA LA HUMANIDAD</td>\n",
       "    </tr>\n",
       "    <tr>\n",
       "      <th>541</th>\n",
       "      <td>TRANQUILIDAD PUBLICA (DELITO)</td>\n",
       "      <td>PAZ PUBLICA</td>\n",
       "    </tr>\n",
       "    <tr>\n",
       "      <th>1645</th>\n",
       "      <td>VIDA  EL CUERPO Y LA SALUD (DELITO)</td>\n",
       "      <td>ABORTO</td>\n",
       "    </tr>\n",
       "    <tr>\n",
       "      <th>588</th>\n",
       "      <td>VIDA  EL CUERPO Y LA SALUD (DELITO)</td>\n",
       "      <td>EXPOSICION A PELIGRO O ABANDONO DE PERSONAS EN...</td>\n",
       "    </tr>\n",
       "    <tr>\n",
       "      <th>60</th>\n",
       "      <td>VIDA  EL CUERPO Y LA SALUD (DELITO)</td>\n",
       "      <td>HOMICIDIO</td>\n",
       "    </tr>\n",
       "    <tr>\n",
       "      <th>63</th>\n",
       "      <td>VIDA  EL CUERPO Y LA SALUD (DELITO)</td>\n",
       "      <td>LESIONES</td>\n",
       "    </tr>\n",
       "  </tbody>\n",
       "</table>\n",
       "</div>"
      ],
      "text/plain": [
       "                                                   TIPO  \\\n",
       "74                      ADMINISTRACION PUBLICA (DELITO)   \n",
       "50                      ADMINISTRACION PUBLICA (DELITO)   \n",
       "151                     DERECHOS INTELECTUALES (DELITO)   \n",
       "112                                    FAMILIA (DELITO)   \n",
       "152                                 FE PUBLICA (DELITO)   \n",
       "155                                 FE PUBLICA (DELITO)   \n",
       "732                                 FE PUBLICA (DELITO)   \n",
       "1179  LEY 30096 DELITOS INFORMATICOS  MODIFICADA POR...   \n",
       "29    LEY 30096 DELITOS INFORMATICOS  MODIFICADA POR...   \n",
       "501   LEY 30096 DELITOS INFORMATICOS  MODIFICADA POR...   \n",
       "0     LEY DE VIOLENCIA CONTRA LA MUJER Y GRUPOS VULN...   \n",
       "611                                   LIBERTAD (DELITO)   \n",
       "700                                   LIBERTAD (DELITO)   \n",
       "110                                   LIBERTAD (DELITO)   \n",
       "37                                    LIBERTAD (DELITO)   \n",
       "332                                 PATRIMONIO (DELITO)   \n",
       "55                                  PATRIMONIO (DELITO)   \n",
       "38                                  PATRIMONIO (DELITO)   \n",
       "77                                  PATRIMONIO (DELITO)   \n",
       "5                                   PATRIMONIO (DELITO)   \n",
       "140                                 PATRIMONIO (DELITO)   \n",
       "4                                   PATRIMONIO (DELITO)   \n",
       "718                                 PATRIMONIO (DELITO)   \n",
       "446                          SEGURIDAD PUBLICA (DELITO)   \n",
       "31                           SEGURIDAD PUBLICA (DELITO)   \n",
       "108                          SEGURIDAD PUBLICA (DELITO)   \n",
       "1394                      TRANQUILIDAD PUBLICA (DELITO)   \n",
       "541                       TRANQUILIDAD PUBLICA (DELITO)   \n",
       "1645                VIDA  EL CUERPO Y LA SALUD (DELITO)   \n",
       "588                 VIDA  EL CUERPO Y LA SALUD (DELITO)   \n",
       "60                  VIDA  EL CUERPO Y LA SALUD (DELITO)   \n",
       "63                  VIDA  EL CUERPO Y LA SALUD (DELITO)   \n",
       "\n",
       "                                                SUBTIPO  \n",
       "74                  COMETIDOS POR FUNCIONARIOS PUBLICOS  \n",
       "50                           COMETIDOS POR PARTICULARES  \n",
       "151                                PROPIEDAD INDUSTRIAL  \n",
       "112                 ATENTADOS CONTRA LA PATRIA POTESTAD  \n",
       "152                               DISPOSICIONES COMUNES  \n",
       "155              FALSIFICACION DE DOCUMENTOS EN GENERAL  \n",
       "732   FALSIFICACION DE SELLOS  TIMBRES Y MARCAS OFIC...  \n",
       "1179  CONTRA LA INTIMIDAD Y EL SECRETO DE LAS COMUNI...  \n",
       "29            DELITOS INFORMATICOS CONTRA EL PATRIMONIO  \n",
       "501           DELITOS INFORMATICOS CONTRA LA FE PUBLICA  \n",
       "0     LEY PARA PREVENIR   SANCIONAR Y ERRADICAR LA V...  \n",
       "611                              VIOLACION DE DOMICILIO  \n",
       "700                           VIOLACION DE LA INTIMIDAD  \n",
       "110                   VIOLACION DE LA LIBERTAD PERSONAL  \n",
       "37                      VIOLACION DE LA LIBERTAD SEXUAL  \n",
       "332                                 APROPIACION ILICITA  \n",
       "55                                                DAÑOS  \n",
       "38                        ESTAFA Y OTRAS DEFRAUDACIONES  \n",
       "77                                            EXTORSION  \n",
       "5                                                 HURTO  \n",
       "140                                         RECEPTACION  \n",
       "4                                                  ROBO  \n",
       "718                                          USURPACION  \n",
       "446   MEDIOS DE TRANSPORTE  COMUNICACIONES Y OTROS S...  \n",
       "31                                        PELIGRO COMUN  \n",
       "108                                       SALUD PUBLICA  \n",
       "1394                                CONTRA LA HUMANIDAD  \n",
       "541                                         PAZ PUBLICA  \n",
       "1645                                             ABORTO  \n",
       "588   EXPOSICION A PELIGRO O ABANDONO DE PERSONAS EN...  \n",
       "60                                            HOMICIDIO  \n",
       "63                                             LESIONES  "
      ]
     },
     "execution_count": 12,
     "metadata": {},
     "output_type": "execute_result"
    }
   ],
   "source": [
    "# validar los valores de tipos de delitos\n",
    "tipos_delitos = df[['TIPO','SUBTIPO']].drop_duplicates()\n",
    "tipos_delitos = tipos_delitos.sort_values(by=['TIPO', 'SUBTIPO'])\n",
    "tipos_delitos"
   ]
  },
  {
   "cell_type": "code",
   "execution_count": 13,
   "metadata": {},
   "outputs": [
    {
     "name": "stdout",
     "output_type": "stream",
     "text": [
      "['LEY DE VIOLENCIA CONTRA LA MUJER Y GRUPOS VULNERABLES'\n",
      " 'PATRIMONIO (DELITO)'\n",
      " 'LEY 30096 DELITOS INFORMATICOS  MODIFICADA POR LA LEY 30171'\n",
      " 'SEGURIDAD PUBLICA (DELITO)' 'LIBERTAD (DELITO)'\n",
      " 'ADMINISTRACION PUBLICA (DELITO)' 'VIDA  EL CUERPO Y LA SALUD (DELITO)'\n",
      " 'FAMILIA (DELITO)' 'DERECHOS INTELECTUALES (DELITO)'\n",
      " 'FE PUBLICA (DELITO)' 'TRANQUILIDAD PUBLICA (DELITO)']\n"
     ]
    }
   ],
   "source": [
    "print(df['TIPO'].unique())"
   ]
  },
  {
   "cell_type": "code",
   "execution_count": 14,
   "metadata": {},
   "outputs": [],
   "source": [
    "# estandarizar valores de tipo\n",
    "df['TIPO'] = df['TIPO'].replace({\n",
    "    'LEY DE VIOLENCIA CONTRA LA MUJER Y GRUPOS VULNERABLES': 'VIOLENCIA A MUJERES Y GGVV',\n",
    "    'PATRIMONIO (DELITO)': 'PATRIMONIO',\n",
    "    'LEY 30096 DELITOS INFORMATICOS  MODIFICADA POR LA LEY 30171': 'DELITOS INFORMATICOS',\n",
    "    'SEGURIDAD PUBLICA (DELITO)': 'SEGURIDAD PUBLICA',\n",
    "    'LIBERTAD (DELITO)': 'LIBERTAD',\n",
    "    'ADMINISTRACION PUBLICA (DELITO)': 'ADMINISTRACION PUBLICA',\n",
    "    'VIDA  EL CUERPO Y LA SALUD (DELITO)': 'VIDA, CUERPO Y SALUD',\n",
    "    'FAMILIA (DELITO)': 'FAMILIA',\n",
    "    'DERECHOS INTELECTUALES (DELITO)': 'DERECHOS INTELECTUALES',\n",
    "    'FE PUBLICA (DELITO)': 'FE PUBLICA',\n",
    "    'TRANQUILIDAD PUBLICA (DELITO)': 'TRANQUILIDAD PUBLICA'\n",
    "    })"
   ]
  },
  {
   "cell_type": "code",
   "execution_count": 15,
   "metadata": {},
   "outputs": [
    {
     "name": "stdout",
     "output_type": "stream",
     "text": [
      "['LEY PARA PREVENIR   SANCIONAR Y ERRADICAR LA VIOLENCIA CONTRA LAS MUJERES Y LOS INTEGRANTES DEL GRUPO FAMILIAR (LEY NRO 30364)'\n",
      " 'ROBO' 'HURTO' 'DELITOS INFORMATICOS CONTRA EL PATRIMONIO'\n",
      " 'PELIGRO COMUN' 'VIOLACION DE LA LIBERTAD SEXUAL'\n",
      " 'ESTAFA Y OTRAS DEFRAUDACIONES' 'COMETIDOS POR PARTICULARES' 'DAÑOS'\n",
      " 'HOMICIDIO' 'LESIONES' 'COMETIDOS POR FUNCIONARIOS PUBLICOS' 'EXTORSION'\n",
      " 'SALUD PUBLICA' 'VIOLACION DE LA LIBERTAD PERSONAL'\n",
      " 'ATENTADOS CONTRA LA PATRIA POTESTAD' 'RECEPTACION'\n",
      " 'PROPIEDAD INDUSTRIAL' 'DISPOSICIONES COMUNES'\n",
      " 'FALSIFICACION DE DOCUMENTOS EN GENERAL' 'APROPIACION ILICITA'\n",
      " 'MEDIOS DE TRANSPORTE  COMUNICACIONES Y OTROS SERVICIOS PUBLICOS'\n",
      " 'DELITOS INFORMATICOS CONTRA LA FE PUBLICA' 'PAZ PUBLICA'\n",
      " 'EXPOSICION A PELIGRO O ABANDONO DE PERSONAS EN PELIGRO'\n",
      " 'VIOLACION DE DOMICILIO' 'VIOLACION DE LA INTIMIDAD' 'USURPACION'\n",
      " 'FALSIFICACION DE SELLOS  TIMBRES Y MARCAS OFICIALES'\n",
      " 'CONTRA LA INTIMIDAD Y EL SECRETO DE LAS COMUNICACIONES'\n",
      " 'CONTRA LA HUMANIDAD' 'ABORTO']\n"
     ]
    }
   ],
   "source": [
    "print(df['SUBTIPO'].unique())"
   ]
  },
  {
   "cell_type": "code",
   "execution_count": 16,
   "metadata": {},
   "outputs": [],
   "source": [
    "# estandarizar valores de subtipo\n",
    "df['SUBTIPO'] = df['SUBTIPO'].replace({\n",
    "    'LEY PARA PREVENIR   SANCIONAR Y ERRADICAR LA VIOLENCIA CONTRA LAS MUJERES Y LOS INTEGRANTES DEL GRUPO FAMILIAR (LEY NRO 30364)': 'VIOLENCIA A MUJERES Y GGVV',\n",
    "    'VIOLACION DE LA LIBERTAD SEXUAL': 'VIOLACION SEXUAL',\n",
    "    'ESTAFA Y OTRAS DEFRAUDACIONES': 'ESTAFA',\n",
    "    'FALSIFICACION DE DOCUMENTOS EN GENERAL': 'FALSIFICACION DE DOCUMENTOS',\n",
    "    'FALSIFICACION DE SELLOS  TIMBRES Y MARCAS OFICIALES': 'FALSIFICACION DE SELLOS, TIMBRES Y MARCAS',\n",
    "    'MEDIOS DE TRANSPORTE  COMUNICACIONES Y OTROS SERVICIOS PUBLICOS': 'MEDIOS DE TRANSPORTE Y OTROS',\n",
    "    'EXPOSICION A PELIGRO O ABANDONO DE PERSONAS EN PELIGRO': 'EXPOSICION AL PELIGRO',\n",
    "    'CONTRA LA INTIMIDAD Y EL SECRETO DE LAS COMUNICACIONES': 'CONTRA LA PRIVACIDAD'\n",
    "    })"
   ]
  },
  {
   "cell_type": "code",
   "execution_count": 17,
   "metadata": {},
   "outputs": [
    {
     "name": "stdout",
     "output_type": "stream",
     "text": [
      "<class 'pandas.core.frame.DataFrame'>\n",
      "Int64Index: 2639 entries, 0 to 2642\n",
      "Data columns (total 14 columns):\n",
      " #   Column             Non-Null Count  Dtype         \n",
      "---  ------             --------------  -----         \n",
      " 0   FECHA_HECHO        2639 non-null   datetime64[ns]\n",
      " 1   HORA_HECHO         2639 non-null   int64         \n",
      " 2   UBICACION          2639 non-null   object        \n",
      " 3   DESCRIPCION        2639 non-null   object        \n",
      " 4   FECHA_NACIMIENTO   2639 non-null   datetime64[ns]\n",
      " 5   EDAD_PERSONA       2639 non-null   int64         \n",
      " 6   SEXO               2639 non-null   object        \n",
      " 7   ESTADO_CIVIL       2639 non-null   object        \n",
      " 8   GRADO_INSTRUCCION  2639 non-null   object        \n",
      " 9   OCUPACION          2639 non-null   object        \n",
      " 10  PAIS_NATAL         2639 non-null   object        \n",
      " 11  MES                2639 non-null   int64         \n",
      " 12  LONGITUD           2639 non-null   float64       \n",
      " 13  LATITUD            2639 non-null   float64       \n",
      "dtypes: datetime64[ns](2), float64(2), int64(3), object(7)\n",
      "memory usage: 309.3+ KB\n"
     ]
    }
   ],
   "source": [
    "# revisar las últimas 14 columnas\n",
    "df.iloc[:,12:26].info()"
   ]
  },
  {
   "cell_type": "code",
   "execution_count": 18,
   "metadata": {},
   "outputs": [
    {
     "name": "stdout",
     "output_type": "stream",
     "text": [
      "['SOLTERO(A)' 'NO INDICA' 'CASADO(A)' 'DIVORCIADO(A)' 'VIUDO(A)'\n",
      " 'CONVIVIENTE']\n"
     ]
    }
   ],
   "source": [
    "# validar los estados civiles\n",
    "print(df['ESTADO_CIVIL'].unique())"
   ]
  },
  {
   "cell_type": "code",
   "execution_count": 19,
   "metadata": {},
   "outputs": [],
   "source": [
    "# estandarizar los estados civiles\n",
    "df['ESTADO_CIVIL'] = df['ESTADO_CIVIL'].replace({\n",
    "    'SOLTERO(A)': 'SOLTERO',\n",
    "    'CASADO(A)': 'CASADO',\n",
    "    'DIVORCIADO(A)': 'DIVORCIADO',\n",
    "    'VIUDO(A)': 'VIUDO'\n",
    "    })"
   ]
  },
  {
   "cell_type": "code",
   "execution_count": 20,
   "metadata": {},
   "outputs": [
    {
     "name": "stdout",
     "output_type": "stream",
     "text": [
      "['NO INDICA' 'SECUNDARIA' 'PRIMARIA' 'SUPERIOR' 'TECNICA'\n",
      " 'SIN INSTRUCCION']\n"
     ]
    }
   ],
   "source": [
    "# validar los grados de intrucción\n",
    "print(df['GRADO_INSTRUCCION'].unique())"
   ]
  },
  {
   "cell_type": "code",
   "execution_count": 21,
   "metadata": {},
   "outputs": [
    {
     "name": "stdout",
     "output_type": "stream",
     "text": [
      "['NO INDICA' 'VIGILANTE' 'OBRERO' 'CHOFER' 'EMPLEADO' 'INDEPENDIENTE'\n",
      " 'ESTUDIANTE' 'TECNICO EN ENFERMERIA' 'DOCENTE' 'AGENTE DE SEGURIDAD'\n",
      " 'EMPLEADA' 'TAXISTA' 'AUXILIAR INVENTARIO' 'DESEMPLEADO' 'AMA DE CASA'\n",
      " 'SERVICIO DE CORRETAJ' 'ADMINISTRADOR' 'OPERARIO' 'PESCADOR'\n",
      " 'POLICIA PNP' 'MECANICO' 'CONDUCTOR' 'ESTIBADOR' 'PINTOR AUTOMOTRIZ'\n",
      " 'MOTOTAXISTA' 'CARPINTERO' 'TRABAJO INDEPENDIENT' 'MOTORIZADO'\n",
      " 'ASESORA DE VIAJES' 'DELIVERY' 'SEGURIDAD' 'LIC ENFERMERIA' 'AYUDANTE'\n",
      " 'SERENAZGO' 'TECNICO MECANICO' 'PINTOR' 'MOZO' 'INGENIERO INDUSTRIAL'\n",
      " 'EMPRESARIO' 'SECRETARIO' 'RECICLADOR' 'ASESORA' 'COCINERO'\n",
      " 'MARINO EN RETIRO' 'SOLDADOR' 'COBRADOR TRANSPORTE PUBLICO'\n",
      " 'AGENTE DE ADUANA' 'OFICIAL PNP' 'TECNICO ELECTRONICO' 'TERAPISTA FISICA'\n",
      " 'TECNICA EN SALUD OCUPACIONAL' 'ASESOR DE VENTAS' 'COMERCIANTE'\n",
      " 'DESPACHADOR ADUANAS' 'LUMINOTECNICO' 'FISCALIZADOR DE MUNI' 'PEDICURE'\n",
      " 'SEGURIDAD PRIVADA' 'PNP EN RETIRO' 'SUBOFICIAL PNP' 'SECRETARIA'\n",
      " 'TECNICO EN TELEFONIA' 'PNP' 'INGENIERO' 'CAJERA' 'MILITAR' 'VENDEDOR'\n",
      " 'PROMOTORA VENTAS' 'ALBAÑIL' 'EMPRESARIA' 'MARINO MERCANTE' 'ABOGADO'\n",
      " 'UNIVERSITARIA' 'CARNICERO' 'ESCOLAR' 'OBRERO INDEPENDIENTE'\n",
      " 'MILITAR RETIRADO' 'TECNICO EN MECANICA DE SUELOS' 'MILITAR EN RETIRO'\n",
      " 'MEDICO' 'SERENAZGO MOTORIZADO' 'CONTADOR' 'ASISTENTE FISCAL'\n",
      " 'TECNICO ELECTRICISTA' 'MARINO' 'TELEOPERADORA' 'CANTANTE'\n",
      " 'MANICURISTA PROFESIONAL' 'TECNOLOGO' 'EJECUTIVA COMERCIAL'\n",
      " 'DISEÑADOR GRAFICO' 'POLICIA' 'SUB OFICIAL 3RA. PNP'\n",
      " 'ASISTENTE ADMINISTRATIVO' 'EMPLEADA DE LA MDV' 'SERVICIO TECNICO'\n",
      " 'FISCALIZADOR' 'MERCADERISTA' 'CUIDADORA DE ADULTO' 'REPOSTERA'\n",
      " 'SERVICIO DOMESTICO' 'ELECTRICISTA' 'PORTERA' 'PROFESORA' 'EJECUTIVA'\n",
      " 'OPERADOR' 'AGRICULTOR' 'ANALISTA DE RECURSOS' 'RETIRADO PNP'\n",
      " 'FARMACEUTICA' 'COMUNICADOR' 'ASISTENTE DE COBRANZA' 'JUBILADO'\n",
      " 'TELEVENTAS' 'ODONTOLOGO' 'TNTE SEGUNDO AP' 'AYUDANTE DE SOLDADOR'\n",
      " 'PENSIONISTA' 'PSICOLOGA' 'SO BRIG PNP' 'AGENTE DE VENTAS' 'GUARDIAN'\n",
      " 'INGENIERA QUIMICA' 'MILITAR EJERCITO' 'ENCARGADO DE LOGISTI' 'BARBERO'\n",
      " 'ARTESANO EN MADERA' 'INGENIERO QUIMICO' 'OPERARIO DE ALMACEN'\n",
      " 'CONSTRUCCION CIVIL' 'AUXILIAR DE RAMPA' 'AUXILIAR DE TRANSPORTE'\n",
      " 'INGENIERO MECANICO' 'MAQUINARIA PESADA' 'SUPERVISOR SEGURIDAD'\n",
      " 'EVENTOS INFANTILES' 'ENFERMERA' 'MANTENIMIENTO' 'OBSTETRIZ'\n",
      " 'COSMETOLOGA' 'MUSICO' 'TECNICO DE AGUA' 'EMPRENDEDOR' 'JEFE DE VENTAS'\n",
      " 'AYUDANTE DE COCINA' 'ATENCION AL CLIENTE' 'TRABAJADORA DEL MINI'\n",
      " 'COORDINADOR' 'COSTURERA' 'TECNICO DE MANTENT' 'TRANSPORTE DE GLP'\n",
      " 'OPERARIO DE CARPINTERIA' 'NEGOCIANTE' 'CERRAJERO' 'TECNICO'\n",
      " 'TRANSPORTISTA' 'T MG' 'ALUMNA FAP' 'PRODUCCION' 'PLANCHADOR Y PINTURA'\n",
      " 'AYUDANTE DE CONSTRUCCION']\n"
     ]
    }
   ],
   "source": [
    "# validar las ocupaciones\n",
    "print(df['OCUPACION'].unique())"
   ]
  },
  {
   "cell_type": "code",
   "execution_count": 22,
   "metadata": {},
   "outputs": [
    {
     "name": "stdout",
     "output_type": "stream",
     "text": [
      "['PERU' 'VENEZUELA' 'COLOMBIA' 'ARGENTINA' 'ECUADOR']\n"
     ]
    }
   ],
   "source": [
    "# validar los países natales\n",
    "print(df['PAIS_NATAL'].unique())"
   ]
  },
  {
   "cell_type": "markdown",
   "metadata": {},
   "source": [
    "### Exportar datos limpios"
   ]
  },
  {
   "cell_type": "code",
   "execution_count": 24,
   "metadata": {},
   "outputs": [],
   "source": [
    "df.to_csv(r'..\\data\\processed\\datos_seguridad.csv', encoding='utf-8', index=False)"
   ]
  }
 ],
 "metadata": {
  "kernelspec": {
   "display_name": "Python 3",
   "language": "python",
   "name": "python3"
  },
  "language_info": {
   "codemirror_mode": {
    "name": "ipython",
    "version": 3
   },
   "file_extension": ".py",
   "mimetype": "text/x-python",
   "name": "python",
   "nbconvert_exporter": "python",
   "pygments_lexer": "ipython3",
   "version": "3.10.2"
  }
 },
 "nbformat": 4,
 "nbformat_minor": 2
}
